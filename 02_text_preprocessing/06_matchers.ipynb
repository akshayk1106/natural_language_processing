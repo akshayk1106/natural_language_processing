{
 "cells": [
  {
   "cell_type": "markdown",
   "metadata": {},
   "source": [
    "### <mark> Matchers\n",
    "\n",
    "    Matcher(vocab, validate=True, fuzzy_compare=levenshtein_compare, *)\n",
    "    Match sequences of tokens, based on pattern rules."
   ]
  },
  {
   "cell_type": "code",
   "execution_count": 3,
   "metadata": {},
   "outputs": [],
   "source": [
    "import spacy\n",
    "nlp = spacy.load('en_core_web_sm')"
   ]
  },
  {
   "cell_type": "code",
   "execution_count": 4,
   "metadata": {},
   "outputs": [],
   "source": [
    "from spacy.matcher import Matcher\n",
    "matcher = Matcher(nlp.vocab)"
   ]
  },
  {
   "cell_type": "code",
   "execution_count": 6,
   "metadata": {},
   "outputs": [],
   "source": [
    "pattern1 = [{'LOWER': 'solarpower'}]\n",
    "pattern2 = [{'LOWER': 'solar'}, {'LOWER': 'power'}]\n",
    "pattern3 = [{'LOWER': 'solar'}, {'IS_PUNCT': True}, {'LOWER': 'power'}]\n",
    "\n",
    "# matcher.add('SolarPower', None, pattern1, pattern2, pattern3)\n",
    "matcher.add('SolarPower', [pattern1, pattern2, pattern3])"
   ]
  },
  {
   "cell_type": "code",
   "execution_count": 7,
   "metadata": {},
   "outputs": [],
   "source": [
    "doc = nlp(u'The Solar Power industry continues to grow as demand for solarpower increases. Solar-power cars are gaining popularity.')"
   ]
  },
  {
   "cell_type": "code",
   "execution_count": 8,
   "metadata": {},
   "outputs": [
    {
     "name": "stdout",
     "output_type": "stream",
     "text": [
      "Word ID 8656102463236116519 , starts at 1 & ends at 3 , and word is Solar Power\n",
      "Word ID 8656102463236116519 , starts at 10 & ends at 11 , and word is solarpower\n",
      "Word ID 8656102463236116519 , starts at 13 & ends at 16 , and word is Solar-power\n"
     ]
    }
   ],
   "source": [
    "found_matches = matcher(doc)\n",
    "for a,b,c in  found_matches : \n",
    "    print(f'Word ID {a} , starts at {b} & ends at {c} , and word is {doc[b:c]}')"
   ]
  },
  {
   "cell_type": "code",
   "execution_count": 9,
   "metadata": {},
   "outputs": [],
   "source": [
    "matcher.remove('SolarPower')"
   ]
  },
  {
   "cell_type": "code",
   "execution_count": 10,
   "metadata": {},
   "outputs": [],
   "source": [
    "pattern1 = [{'LOWER': 'solarpower'}]\n",
    "pattern2 = [{'LOWER': 'solar'}, {'IS_PUNCT': True, 'OP':'*'}, {'LOWER': 'power'}]"
   ]
  },
  {
   "cell_type": "code",
   "execution_count": 12,
   "metadata": {},
   "outputs": [],
   "source": [
    "matcher.add('SolarPower', [pattern1, pattern2])"
   ]
  },
  {
   "cell_type": "code",
   "execution_count": 13,
   "metadata": {},
   "outputs": [],
   "source": [
    "pattern1 = [{'LOWER': 'solarpower'}]\n",
    "pattern2 = [{'LOWER': 'solar'}, {'IS_PUNCT': True, 'OP':'*'}, {'LOWER': 'power'}]\n",
    "pattern3 = [{'LOWER': 'solarpowered'}]\n",
    "pattern4 = [{'LOWER': 'solar'}, {'IS_PUNCT': True, 'OP':'*'}, {'LOWER': 'powered'}]"
   ]
  },
  {
   "cell_type": "code",
   "execution_count": 14,
   "metadata": {},
   "outputs": [],
   "source": [
    "matcher.remove('SolarPower')"
   ]
  },
  {
   "cell_type": "code",
   "execution_count": 15,
   "metadata": {},
   "outputs": [],
   "source": [
    "matcher.add('SolarPower', [pattern1, pattern2, pattern3, pattern4])"
   ]
  },
  {
   "cell_type": "code",
   "execution_count": 16,
   "metadata": {},
   "outputs": [
    {
     "name": "stdout",
     "output_type": "stream",
     "text": [
      "Word ID 8656102463236116519 , starts at 1 & ends at 3 , and word is Solar Power\n",
      "Word ID 8656102463236116519 , starts at 10 & ends at 11 , and word is solarpower\n",
      "Word ID 8656102463236116519 , starts at 13 & ends at 16 , and word is Solar-power\n"
     ]
    }
   ],
   "source": [
    "found_matches = matcher(doc)\n",
    "for a,b,c in  found_matches : \n",
    "    print(f'Word ID {a} , starts at {b} & ends at {c} , and word is {doc[b:c]}')"
   ]
  },
  {
   "cell_type": "markdown",
   "metadata": {},
   "source": [
    "#### PhraseMatcher"
   ]
  },
  {
   "cell_type": "code",
   "execution_count": 17,
   "metadata": {},
   "outputs": [],
   "source": [
    "import spacy\n",
    "nlp = spacy.load('en_core_web_sm')"
   ]
  },
  {
   "cell_type": "code",
   "execution_count": 18,
   "metadata": {},
   "outputs": [],
   "source": [
    "from spacy.matcher import PhraseMatcher\n",
    "matcher = PhraseMatcher(nlp.vocab)"
   ]
  },
  {
   "cell_type": "code",
   "execution_count": 19,
   "metadata": {},
   "outputs": [],
   "source": [
    "with open('reaganomics.txt') as f:\n",
    "    doc3 = nlp(f.read())"
   ]
  },
  {
   "cell_type": "code",
   "execution_count": 20,
   "metadata": {},
   "outputs": [],
   "source": [
    "phrase_list = ['voodoo economics', 'supply-side economics', 'trickle-down economics', 'free-market economics']"
   ]
  },
  {
   "cell_type": "code",
   "execution_count": 21,
   "metadata": {},
   "outputs": [
    {
     "data": {
      "text/plain": [
       "[voodoo economics,\n",
       " supply-side economics,\n",
       " trickle-down economics,\n",
       " free-market economics]"
      ]
     },
     "execution_count": 21,
     "metadata": {},
     "output_type": "execute_result"
    }
   ],
   "source": [
    "phrase_patterns = [nlp(text) for text in phrase_list]\n",
    "phrase_patterns"
   ]
  },
  {
   "cell_type": "code",
   "execution_count": 22,
   "metadata": {},
   "outputs": [],
   "source": [
    "matcher.add('VoodooEconomics', None, *phrase_patterns)"
   ]
  },
  {
   "cell_type": "code",
   "execution_count": 23,
   "metadata": {},
   "outputs": [
    {
     "name": "stdout",
     "output_type": "stream",
     "text": [
      "Word ID 3473369816841043438 , starts at 41 & ends at 45 , and phrase is commonly associated with supply-side economics, referred to\n",
      "---------------------------------------------------------------------------------\n",
      "Word ID 3473369816841043438 , starts at 49 & ends at 53 , and phrase is referred to as trickle-down economics or voodoo economics\n",
      "---------------------------------------------------------------------------------\n",
      "Word ID 3473369816841043438 , starts at 54 & ends at 56 , and phrase is down economics or voodoo economics by political opponents\n",
      "---------------------------------------------------------------------------------\n",
      "Word ID 3473369816841043438 , starts at 61 & ends at 65 , and phrase is opponents, and free-market economics by political advocates\n",
      "---------------------------------------------------------------------------------\n",
      "Word ID 3473369816841043438 , starts at 673 & ends at 677 , and phrase is following from the supply-side economics movement, which\n",
      "---------------------------------------------------------------------------------\n",
      "Word ID 3473369816841043438 , starts at 2987 & ends at 2991 , and phrase is known as \"trickle-down economics\", due\n",
      "---------------------------------------------------------------------------------\n"
     ]
    }
   ],
   "source": [
    "matches = matcher(doc3)\n",
    "\n",
    "for a,b,c in  matches : \n",
    "    print(f'Word ID {a} , starts at {b} & ends at {c} , and phrase is {doc3[b-3:c+3]}')\n",
    "    print('---------------------------------------------------------------------------------')"
   ]
  },
  {
   "cell_type": "code",
   "execution_count": null,
   "metadata": {},
   "outputs": [],
   "source": []
  }
 ],
 "metadata": {
  "kernelspec": {
   "display_name": "Python 3 (ipykernel)",
   "language": "python",
   "name": "python3"
  },
  "language_info": {
   "codemirror_mode": {
    "name": "ipython",
    "version": 3
   },
   "file_extension": ".py",
   "mimetype": "text/x-python",
   "name": "python",
   "nbconvert_exporter": "python",
   "pygments_lexer": "ipython3",
   "version": "3.9.13"
  }
 },
 "nbformat": 4,
 "nbformat_minor": 4
}
