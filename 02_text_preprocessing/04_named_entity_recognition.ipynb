{
 "cells": [
  {
   "cell_type": "markdown",
   "metadata": {},
   "source": [
    "# <mark> Named Entity Recognition"
   ]
  },
  {
   "cell_type": "code",
   "execution_count": 42,
   "metadata": {
    "tags": []
   },
   "outputs": [],
   "source": [
    "import spacy\n",
    "nlp = spacy.load('en_core_web_sm')"
   ]
  },
  {
   "cell_type": "code",
   "execution_count": 43,
   "metadata": {},
   "outputs": [],
   "source": [
    "doc1 = nlp(u'Tata Motors Limited, a USD 35 billion organisation, CEO being Ratanji')"
   ]
  },
  {
   "cell_type": "code",
   "execution_count": 44,
   "metadata": {
    "tags": []
   },
   "outputs": [
    {
     "name": "stdout",
     "output_type": "stream",
     "text": [
      "Tata | Motors | Limited | , | a | USD | 35 | billion | organisation | , | CEO | being | Ratanji | "
     ]
    }
   ],
   "source": [
    "for token in doc1:\n",
    "    print(token.text, end=' | ')"
   ]
  },
  {
   "cell_type": "code",
   "execution_count": 45,
   "metadata": {},
   "outputs": [
    {
     "data": {
      "text/plain": [
       "(Tata Motors Limited, USD 35 billion, Ratanji)"
      ]
     },
     "execution_count": 45,
     "metadata": {},
     "output_type": "execute_result"
    }
   ],
   "source": [
    "doc1.ents"
   ]
  },
  {
   "cell_type": "code",
   "execution_count": 46,
   "metadata": {
    "tags": []
   },
   "outputs": [
    {
     "name": "stdout",
     "output_type": "stream",
     "text": [
      "Tata Motors Limited\n",
      "ORG\n",
      "Companies, agencies, institutions, etc.\n",
      "0\n",
      "3\n",
      "\n",
      "USD 35 billion\n",
      "MONEY\n",
      "Monetary values, including unit\n",
      "5\n",
      "8\n",
      "\n",
      "Ratanji\n",
      "PERSON\n",
      "People, including fictional\n",
      "12\n",
      "13\n",
      "\n"
     ]
    }
   ],
   "source": [
    "for ent in doc1.ents:\n",
    "    print(ent.text)\n",
    "    # print(ent.label)\n",
    "    print(ent.label_)\n",
    "    print(str(spacy.explain(ent.label_)))\n",
    "    print(ent.start)\n",
    "    print(ent.end)\n",
    "    # print(ent.start_char)\n",
    "    # print(ent.end_char)\n",
    "    print()"
   ]
  },
  {
   "cell_type": "code",
   "execution_count": 47,
   "metadata": {},
   "outputs": [],
   "source": [
    "def show_ents(doc):\n",
    "    if doc.ents:\n",
    "        for ent in doc.ents:\n",
    "            print(ent.text+' - '+ ent.label_ + ' - ' + str(spacy.explain(ent.label_)))\n",
    "            print('-----------------------------')\n",
    "    else:\n",
    "        print('No named entities found.')"
   ]
  },
  {
   "cell_type": "code",
   "execution_count": 48,
   "metadata": {
    "tags": []
   },
   "outputs": [
    {
     "name": "stdout",
     "output_type": "stream",
     "text": [
      "No named entities found.\n"
     ]
    }
   ],
   "source": [
    "show_ents(nlp('hey, are you fine?'))"
   ]
  },
  {
   "cell_type": "code",
   "execution_count": 49,
   "metadata": {},
   "outputs": [
    {
     "name": "stdout",
     "output_type": "stream",
     "text": [
      "Patrick - PERSON - People, including fictional\n",
      "-----------------------------\n",
      "Mercedes - ORG - Companies, agencies, institutions, etc.\n",
      "-----------------------------\n",
      "London - GPE - Countries, cities, states\n",
      "-----------------------------\n"
     ]
    }
   ],
   "source": [
    "show_ents(nlp('Patrick was owner of Mercedes in London'))"
   ]
  },
  {
   "cell_type": "code",
   "execution_count": 50,
   "metadata": {},
   "outputs": [
    {
     "data": {
      "text/plain": [
       "('CPRO', 'ORG', 'People, including fictional')"
      ]
     },
     "execution_count": 50,
     "metadata": {},
     "output_type": "execute_result"
    }
   ],
   "source": [
    "## Adding a new entity to current document\n",
    "\n",
    "from spacy.tokens import Span\n",
    "doc = nlp('CPRO to build a U.K. factory for $6 million')\n",
    "\n",
    "ORG = doc.vocab.strings[u'ORG']  \n",
    "new_ent = Span(doc, 0, 1, label=ORG)\n",
    "\n",
    "new_ent.text, new_ent.label_, spacy.explain(ent.label_)"
   ]
  },
  {
   "cell_type": "code",
   "execution_count": 51,
   "metadata": {},
   "outputs": [
    {
     "name": "stdout",
     "output_type": "stream",
     "text": [
      "CPRO - ORG - Companies, agencies, institutions, etc.\n",
      "-----------------------------\n",
      "U.K. - GPE - Countries, cities, states\n",
      "-----------------------------\n",
      "$6 million - MONEY - Monetary values, including unit\n",
      "-----------------------------\n"
     ]
    }
   ],
   "source": [
    "doc =nlp('CPRO to build a U.K. factory for $6 million')\n",
    "doc.ents = list(doc.ents) + [new_ent]\n",
    "\n",
    "show_ents(doc)"
   ]
  },
  {
   "cell_type": "code",
   "execution_count": 52,
   "metadata": {},
   "outputs": [
    {
     "name": "stdout",
     "output_type": "stream",
     "text": [
      "Our manufacturing facilities\n",
      "facilities\n",
      "nominal subject (passive)\n",
      "NP\n",
      "noun phrase\n",
      "0\n",
      "3\n",
      "\n",
      "world-class manufacturing and quality standards\n",
      "standards\n",
      "object of preposition\n",
      "NP\n",
      "noun phrase\n",
      "6\n",
      "13\n",
      "\n"
     ]
    }
   ],
   "source": [
    "doc2 = nlp(u\"Our manufacturing facilities are certified for world-class manufacturing and quality standards.\")\n",
    "\n",
    "for chunk in doc2.noun_chunks:\n",
    "    print(chunk.text)\n",
    "    print(chunk.root.text)\n",
    "    # print(chunk.root.dep_)\n",
    "    print(spacy.explain(chunk.root.dep_))\n",
    "    print(chunk.label_)\n",
    "    print(spacy.explain(chunk.label_))\n",
    "    print(chunk.start)\n",
    "    print(chunk.end)\n",
    "    print()"
   ]
  },
  {
   "cell_type": "code",
   "execution_count": 53,
   "metadata": {},
   "outputs": [],
   "source": [
    "doc3 = nlp('''\n",
    "Cristiano Ronaldo dos Santos Aveiro GOIH ComM is a Portuguese professional footballer \n",
    "who plays as a forward for and \n",
    "captains both Saudi Pro League club Al Nassr and the Portugal national team.\n",
    "''')"
   ]
  },
  {
   "cell_type": "code",
   "execution_count": 54,
   "metadata": {
    "tags": []
   },
   "outputs": [
    {
     "name": "stdout",
     "output_type": "stream",
     "text": [
      "\n",
      "Cristiano Ronaldo  :  Ronaldo  :  nsubj  :  nominal subject  :  3342607623747562680  :  NP  :  noun phrase\n",
      "\n",
      "ComM  :  ComM  :  nsubj  :  nominal subject  :  3342607623747562680  :  NP  :  noun phrase\n",
      "\n",
      "a Portuguese professional footballer  :  footballer  :  attr  :  attribute  :  3342607623747562680  :  NP  :  noun phrase\n",
      "\n",
      "who  :  who  :  nsubj  :  nominal subject  :  3342607623747562680  :  NP  :  noun phrase\n",
      "\n",
      "a forward  :  forward  :  pobj  :  object of preposition  :  3342607623747562680  :  NP  :  noun phrase\n",
      "\n",
      "captains  :  captains  :  attr  :  attribute  :  3342607623747562680  :  NP  :  noun phrase\n",
      "\n",
      "both Saudi Pro League club Al Nassr  :  Nassr  :  dobj  :  direct object  :  3342607623747562680  :  NP  :  noun phrase\n",
      "\n",
      "the Portugal national team  :  team  :  conj  :  conjunct  :  3342607623747562680  :  NP  :  noun phrase\n",
      "\n"
     ]
    }
   ],
   "source": [
    "for chunk in doc3.noun_chunks:\n",
    "    print(chunk.text,' : ', chunk.root.text,' : ', chunk.root.dep_,' : ', spacy.explain(chunk.root.dep_),' : ', chunk.label,' : ', chunk.label_,' : ',spacy.explain(chunk.label_))\n",
    "    print()"
   ]
  },
  {
   "cell_type": "code",
   "execution_count": null,
   "metadata": {},
   "outputs": [],
   "source": []
  }
 ],
 "metadata": {
  "kernelspec": {
   "display_name": "Python 3 (ipykernel)",
   "language": "python",
   "name": "python3"
  },
  "language_info": {
   "codemirror_mode": {
    "name": "ipython",
    "version": 3
   },
   "file_extension": ".py",
   "mimetype": "text/x-python",
   "name": "python",
   "nbconvert_exporter": "python",
   "pygments_lexer": "ipython3",
   "version": "3.9.13"
  }
 },
 "nbformat": 4,
 "nbformat_minor": 4
}
