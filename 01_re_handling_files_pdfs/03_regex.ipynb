{
 "cells": [
  {
   "cell_type": "markdown",
   "id": "6f6f2b64",
   "metadata": {},
   "source": [
    "# RegEx"
   ]
  },
  {
   "cell_type": "markdown",
   "id": "72040490",
   "metadata": {},
   "source": [
    "A RegEx, or Regular Expression, is a sequence of characters that forms a search pattern.\n",
    "\n",
    "RegEx can be used to check if a string contains the specified search pattern.\n",
    "\n",
    "Python has a built-in package called re, which can be used to work with Regular Expressions.\n",
    "\n",
    "The inbuilt library can be used to compile patterns, find patterns, etc."
   ]
  },
  {
   "cell_type": "markdown",
   "id": "cd0775f8",
   "metadata": {},
   "source": [
    "### Functions"
   ]
  },
  {
   "cell_type": "markdown",
   "id": "73d9e65c-5271-4c94-870e-aee5a3475162",
   "metadata": {},
   "source": [
    "The re module offers a set of functions that allows us to search a string for a match:\n",
    "\n",
    "    re.findall()\tReturns a list containing all matches\n",
    "    re.search()\tReturns a Match object if there is a match anywhere in the string\n",
    "    re.split() \tReturns a list where the string has been split at each match\n",
    "    re.sub() \t Replaces one or many matches with a string\n",
    "    re.compile() \t Compile a regular expression pattern, returning a Pattern object"
   ]
  },
  {
   "cell_type": "code",
   "execution_count": 49,
   "id": "1bfbde99-922f-4dd8-8733-d3fc9cda59fc",
   "metadata": {},
   "outputs": [],
   "source": [
    "import re\n",
    "txt = \"There is heavy rain in spain\""
   ]
  },
  {
   "cell_type": "code",
   "execution_count": 50,
   "id": "981918ae",
   "metadata": {},
   "outputs": [
    {
     "name": "stdout",
     "output_type": "stream",
     "text": [
      "['ai', 'ai']\n"
     ]
    }
   ],
   "source": [
    "\"\"\"The findall() function returns a list containing all matches.\n",
    "If no matches are found, an empty list is returned.\"\"\"\n",
    "\n",
    "x = re.findall(\"ai\", txt)\n",
    "print(x)"
   ]
  },
  {
   "cell_type": "code",
   "execution_count": 51,
   "id": "067ad115",
   "metadata": {},
   "outputs": [
    {
     "name": "stdout",
     "output_type": "stream",
     "text": [
      "The first white-space character is located in position: 5\n"
     ]
    }
   ],
   "source": [
    "\"\"\"The search() function searches the string for a match, and returns a Match object if there is a match.\n",
    "If there is more than one match, only the first occurrence of the match will be returned.\n",
    "If no matches are found, the value None is returned.\"\"\"\n",
    "\n",
    "x = re.search(\" \", txt)\n",
    "\n",
    "print(\"The first white-space character is located in position:\", x.start())"
   ]
  },
  {
   "cell_type": "code",
   "execution_count": 52,
   "id": "2178e740",
   "metadata": {},
   "outputs": [
    {
     "name": "stdout",
     "output_type": "stream",
     "text": [
      "['There', 'is', 'heavy rain in spain']\n"
     ]
    }
   ],
   "source": [
    "\"\"\"The split() function returns a list where the string has been split at each match.\n",
    "You can control the number of occurrences by specifying the maxsplit parameter.\"\"\"\n",
    "\n",
    "x = re.split(\" \", txt, 2)\n",
    "print(x)"
   ]
  },
  {
   "cell_type": "code",
   "execution_count": 53,
   "id": "8e185c4f",
   "metadata": {},
   "outputs": [
    {
     "name": "stdout",
     "output_type": "stream",
     "text": [
      "There---is---heavy rain in spain\n"
     ]
    }
   ],
   "source": [
    "\"\"\"The sub() function replaces the matches with the text of your choice.\n",
    "You can control the number of replacements by specifying the count parameter.\"\"\"\n",
    "\n",
    "x = re.sub(\" \", \"---\", txt, 2)\n",
    "print(x)"
   ]
  },
  {
   "cell_type": "markdown",
   "id": "7be717b7",
   "metadata": {},
   "source": [
    "### Metacharacters:"
   ]
  },
  {
   "cell_type": "markdown",
   "id": "f811d3a6-62ac-421c-bd40-55fc314aa6fb",
   "metadata": {},
   "source": [
    "Metacharacters are characters with a special meaning:\n",
    "\n",
    "Metacharacters are considered as the building blocks of regular expressions. Regular expressions are patterns used to match character combinations in the strings. Metacharacter has special meaning in finding patterns and are mostly used to define the search criteria and any text manipulations.\n",
    "\n",
    "    \\d\twhole numbers( 0-9 )(single digit)\t \\d = 7,  \\d\\d=77\n",
    "    \\w\talphanumeric character\t\\w\\w\\w\\w = geek \\w\\w\\w =! geek\n",
    "    *\t0 or more characters\ts*  = _,s,ss,sss,ssss…..\n",
    "    +\t1 or more characters\ts+ = s,ss,sss,ssss…..\n",
    "    ?  \t0 or 1 character\ts?  = _ or s\n",
    "    {m}\toccurs “m” times\tsd{3} = sddd\n",
    "    {m,n}\tmin “m” and max “n” times\tsd{2,3}=sdd or sddd\n",
    "    \\W  \tsymbols \t\\W = %\n",
    "    [a-z]  or [0-9]\tcharacter set\tgeek[sy] = geeky\n",
    "    []\tA set of characters\t\"[a-m]\"\t\n",
    "    \\\tSignals a special sequence (can also be used to escape special characters)\t\"\\d\"\t\n",
    "\n",
    "\n",
    "\n",
    "    .\tAny character (except newline character)\t\"he..o\"\t\n",
    "    ^\tStarts with\t\"^hello\"\t\n",
    "    $\tEnds with\t\"world$\"\n",
    "    *\tZero or more occurrences\t\"aix*\"\t\n",
    "    +\tOne or more occurrences\t\"aix+\"\t\n",
    "    {}\tExactly the specified number of occurrences\t\"al{2}\"\t\n",
    "    |\tEither or\t\"falls|stays\"\t\n",
    "    ()\tCapture and group"
   ]
  },
  {
   "cell_type": "markdown",
   "id": "32a7f4e2",
   "metadata": {},
   "source": [
    "### Special Sequence:"
   ]
  },
  {
   "cell_type": "markdown",
   "id": "e5536c57-2a29-4bbb-a57b-6bebae5f52c3",
   "metadata": {},
   "source": [
    "A special sequence is a \\ followed by one of the characters in the list below, and has a special meaning:\n",
    "\n",
    "    \\A\t BEGINNING\n",
    "    \\Z\t END\n",
    "    \n",
    "    \\b\t BEGINNING/END\n",
    "    \\B\t NOT BEGINNING/END\n",
    "    \n",
    "    \\d\tDIGIT\n",
    "    \\D\tNOT DIGIT\n",
    "    \n",
    "    \\s\tWHITE SPACE\n",
    "    \\S\tNOT WHITE SPACE\n",
    "    \n",
    "    \\w\tANY WORD CHARACTERS (A-Z, 0-9, underscore)\n",
    "    \\W\tSPECIAL CHARACTERS "
   ]
  },
  {
   "cell_type": "markdown",
   "id": "dd4a9e48",
   "metadata": {},
   "source": [
    "### Set"
   ]
  },
  {
   "cell_type": "markdown",
   "id": "9924038d-173a-41f6-a391-c26590cfa961",
   "metadata": {},
   "source": [
    "A set is a set of characters inside a pair of square brackets [] with a special meaning:\n",
    "\n",
    "Set\tDescription\tTry it\n",
    "\n",
    "    [arn]\tReturns a match where one of the specified characters (a, r, or n) are present\t\n",
    "    [a-n]\tReturns a match for any lower case character, alphabetically between a and n\t\n",
    "    [^arn]\tReturns a match for any character EXCEPT a, r, and n\t\n",
    "    [0123]\tReturns a match where any of the specified digits (0, 1, 2, or 3) are present\t\n",
    "    [0-9]\tReturns a match for any digit between 0 and 9\t\n",
    "    \n",
    "    [0-5][0-9]\tReturns a match for any two-digit numbers from 00 and 59\t\n",
    "    [a-zA-Z]\tReturns a match for any character alphabetically between a and z, lower case OR upper case\t\n",
    "    \n",
    "    [+]\tIn sets, +, *, ., |, (), $,{} has no special meaning, so [+] means: return a match for any + character in the string"
   ]
  },
  {
   "cell_type": "markdown",
   "id": "1df5c5d6-043b-4ea3-816e-1c1ac6b1b805",
   "metadata": {},
   "source": [
    "### Quantifiers"
   ]
  },
  {
   "cell_type": "markdown",
   "id": "fc104e0c-06ac-4480-bde8-adb6e5815b69",
   "metadata": {},
   "source": [
    "    * - 0 or more occurences\n",
    "    + - 1 or more occurences\n",
    "    ? - 0 or one\n",
    "    {3} - Exact number\n",
    "    {3,4} - Range of numbers(Min,Max)\n",
    "    | - Either or\n",
    "    () - Group"
   ]
  },
  {
   "cell_type": "markdown",
   "id": "78c193bc",
   "metadata": {},
   "source": [
    "### Match Object\n",
    "A Match Object is an object containing information about the search and the result. If there is no match, the value None will be returned, instead of the Match Object.\n",
    "\n",
    "The Match object has properties and methods used to retrieve information about the search, and the result:\n",
    "\n",
    "    .span() returns a tuple containing the start-, and end positions of the match.\n",
    "    .string returns the string passed into the function\n",
    "    .group() returns the part of the string where there was a match"
   ]
  },
  {
   "cell_type": "code",
   "execution_count": 56,
   "id": "7e83e2cf",
   "metadata": {},
   "outputs": [
    {
     "name": "stdout",
     "output_type": "stream",
     "text": [
      "<re.Match object; span=(16, 18), match='ai'>\n"
     ]
    }
   ],
   "source": [
    "import re\n",
    "txt = \"There is heavy rain in Spain\"\n",
    "\n",
    "x = re.search(\"ai\", txt)\n",
    "print(x) #this will print an object"
   ]
  },
  {
   "cell_type": "code",
   "execution_count": 57,
   "id": "44c9131f",
   "metadata": {},
   "outputs": [
    {
     "name": "stdout",
     "output_type": "stream",
     "text": [
      "(23, 28)\n"
     ]
    }
   ],
   "source": [
    "# any words that starts with an upper case \"S\"\n",
    "\n",
    "x = re.search(r\"\\bS\\w+\", txt)\n",
    "print(x.span())"
   ]
  },
  {
   "cell_type": "code",
   "execution_count": 58,
   "id": "50e05994",
   "metadata": {},
   "outputs": [
    {
     "name": "stdout",
     "output_type": "stream",
     "text": [
      "There is heavy rain in Spain\n"
     ]
    }
   ],
   "source": [
    "# Print the string passed into the function:\"\"\"\n",
    "\n",
    "x = re.search(r\"\\bS\\w+\", txt)\n",
    "print(x.string)"
   ]
  },
  {
   "cell_type": "code",
   "execution_count": 59,
   "id": "207a4d84",
   "metadata": {},
   "outputs": [
    {
     "name": "stdout",
     "output_type": "stream",
     "text": [
      "Spain\n"
     ]
    }
   ],
   "source": [
    "# any words that starts with an upper case \"S\"\n",
    "\n",
    "x = re.search(r\"\\bS\\w+\", txt)\n",
    "print(x.group())"
   ]
  },
  {
   "cell_type": "code",
   "execution_count": null,
   "id": "8d9ca515-3ed5-4906-9479-a18c24634b9c",
   "metadata": {},
   "outputs": [],
   "source": []
  },
  {
   "cell_type": "markdown",
   "id": "32f28352-160c-4b62-ac9b-27a09d9effdb",
   "metadata": {},
   "source": [
    "# <font color='blue'> EXAMPLES"
   ]
  },
  {
   "cell_type": "markdown",
   "id": "fe8328c7",
   "metadata": {},
   "source": [
    "### Finding Pattern Ex.1"
   ]
  },
  {
   "cell_type": "code",
   "execution_count": 60,
   "id": "782c5f4d",
   "metadata": {},
   "outputs": [],
   "source": [
    "import re\n",
    "\n",
    "text_to_search = '''\n",
    "abcdefghijklmnopqurtuvwxyz\n",
    "ABCDEFGHIJKLMNOPQRSTUVWXYZ\n",
    "1234567890\n",
    "Ha HaHa\n",
    "MetaCharacters (Need to be escaped):\n",
    ". ^ $ * + ? { } [ ] \\ | ( )\n",
    "coreyms.com\n",
    "321-555-4321\n",
    "321-555-4321123\n",
    "123.555.1234\n",
    "123*555*12\n",
    "700*788*7785\n",
    "800-555-1234\n",
    "900-555-1234\n",
    "Mr. Sachin\n",
    "Mr Kevin\n",
    "Ms David\n",
    "Mrs. Raonsla\n",
    "Mr. Tiago\n",
    "enjoying@gmail.com\n",
    "'''"
   ]
  },
  {
   "cell_type": "code",
   "execution_count": 63,
   "id": "65849896",
   "metadata": {},
   "outputs": [
    {
     "name": "stdout",
     "output_type": "stream",
     "text": [
      "<re.Match object; span=(151, 162), match='321-555-432'>\n",
      "<re.Match object; span=(164, 175), match='321-555-432'>\n",
      "<re.Match object; span=(180, 191), match='123.555.123'>\n",
      "<re.Match object; span=(204, 215), match='700*788*778'>\n",
      "<re.Match object; span=(217, 228), match='800-555-123'>\n",
      "<re.Match object; span=(230, 241), match='900-555-123'>\n"
     ]
    }
   ],
   "source": [
    "pattern = re.compile(r'\\d\\d\\d.\\d\\d\\d.\\d\\d\\d')\n",
    "matches = pattern.finditer(text_to_search)\n",
    "\n",
    "for match in matches:\n",
    "    print(match)"
   ]
  },
  {
   "cell_type": "code",
   "execution_count": 12,
   "id": "7553d159",
   "metadata": {},
   "outputs": [],
   "source": [
    "#pattern = re.compile(r'abc')\n",
    "#pattern = re.compile(r'.') Any char except new line\n",
    "#pattern = re.compile(r'\\.') \n",
    "#Pattern = re.compile(r'enjoying\\.com')\n",
    "#pattern = re.compile(r'\\d') Digit\n",
    "#pattern = re.compile(r'\\d\\d\\d') 3 Digit number\n",
    "#pattern = re.compile(r'\\D') Non-Digit\n",
    "#pattern = re.compile(r'\\w') Word\n",
    "#pattern = re.compile(r'\\W') Non-word\n",
    "#pattern = re.compile(r'\\s') Whitespace: space, tab, newline\n",
    "#pattern = re.compile(r'\\S') Not whitespace"
   ]
  },
  {
   "cell_type": "code",
   "execution_count": 13,
   "id": "e7465e25",
   "metadata": {},
   "outputs": [],
   "source": [
    "#pattern = re.compile(r'\\bHa') word boundary\n",
    "#pattern = re.compile(r'\\BHa') Not word boundary\n",
    "#pattern = re.compile(r'^Tata') Beggining of a string\n",
    "#pattern = re.compile(r'Tata&') End of a string\n",
    "#pattern = re.compile(r'[a-z]')\n",
    "#pattern = re.compile(r'[a-zA-Z]')\n",
    "#pattern = re.compile(r'[1-9]')\n",
    "#pattern = re.compile(r'[^a-z]')\n",
    "#pattern = re.compile(r'[^b]at')"
   ]
  },
  {
   "cell_type": "code",
   "execution_count": 14,
   "id": "c100a5b5",
   "metadata": {},
   "outputs": [],
   "source": [
    "#pattern = re.compile(r'\\d\\d\\d.\\d\\d\\d.\\d\\d\\d') OR\n",
    "pattern = re.compile(r'\\d{3}.\\d{3}.\\d{4}')"
   ]
  },
  {
   "cell_type": "code",
   "execution_count": 64,
   "id": "ef97c782",
   "metadata": {},
   "outputs": [
    {
     "name": "stdout",
     "output_type": "stream",
     "text": [
      "<re.Match object; span=(243, 253), match='Mr. Sachin'>\n",
      "<re.Match object; span=(254, 262), match='Mr Kevin'>\n",
      "<re.Match object; span=(285, 294), match='Mr. Tiago'>\n"
     ]
    }
   ],
   "source": [
    "#pattern = re.compile(r'Mr\\.') #fullstop after backslash is optional\n",
    "pattern = re.compile(r'Mr\\.?\\s[A-Z]\\w*')\n",
    "matches = pattern.finditer(text_to_search)\n",
    "\n",
    "for match in matches:\n",
    "    print(match)"
   ]
  },
  {
   "cell_type": "code",
   "execution_count": 65,
   "id": "5f43b13c",
   "metadata": {},
   "outputs": [
    {
     "name": "stdout",
     "output_type": "stream",
     "text": [
      "<re.Match object; span=(243, 253), match='Mr. Sachin'>\n",
      "<re.Match object; span=(254, 262), match='Mr Kevin'>\n",
      "<re.Match object; span=(263, 271), match='Ms David'>\n",
      "<re.Match object; span=(272, 284), match='Mrs. Raonsla'>\n",
      "<re.Match object; span=(285, 294), match='Mr. Tiago'>\n"
     ]
    }
   ],
   "source": [
    "#Use of groups\n",
    "pattern = re.compile(r'M(r|s|rs)\\.?\\s[A-Z]\\w*')\n",
    "matches = pattern.finditer(text_to_search)\n",
    "\n",
    "for match in matches:\n",
    "    print(match)"
   ]
  },
  {
   "cell_type": "markdown",
   "id": "3f04a6eb",
   "metadata": {},
   "source": [
    "### Finding Pattern Ex.2"
   ]
  },
  {
   "cell_type": "code",
   "execution_count": 66,
   "id": "a8479d6e",
   "metadata": {},
   "outputs": [
    {
     "name": "stdout",
     "output_type": "stream",
     "text": [
      "<re.Match object; span=(1, 21), match='CandySofty@gmail.com'>\n"
     ]
    }
   ],
   "source": [
    "import re\n",
    "emails=\"\"\"\n",
    "CandySofty@gmail.com\n",
    "candy.softy@univrsity.edu\n",
    "candy-321-softy@my-work.net\n",
    "\"\"\"\n",
    "pattern = re.compile(r'[a-zA-Z]+@[a-z]+\\.com') #Compile a regular expression pattern, returning a Pattern object.\n",
    "matches = pattern.finditer(emails) #Return an iterator over all non-overlapping matches for the RE pattern \n",
    "for match in matches:\n",
    "    print(match)"
   ]
  },
  {
   "cell_type": "code",
   "execution_count": 67,
   "id": "f4236cd6",
   "metadata": {},
   "outputs": [
    {
     "name": "stdout",
     "output_type": "stream",
     "text": [
      "<re.Match object; span=(1, 21), match='CandySofty@gmail.com'>\n",
      "<re.Match object; span=(22, 47), match='candy.softy@univrsity.edu'>\n"
     ]
    }
   ],
   "source": [
    "pattern = re.compile(r'[a-zA-Z.]+@[a-z]+\\.(com|edu)')\n",
    "matches = pattern.finditer(emails) \n",
    "for match in matches:\n",
    "    print(match)"
   ]
  },
  {
   "cell_type": "code",
   "execution_count": 68,
   "id": "6b1381c6",
   "metadata": {},
   "outputs": [
    {
     "name": "stdout",
     "output_type": "stream",
     "text": [
      "<re.Match object; span=(1, 21), match='CandySofty@gmail.com'>\n",
      "<re.Match object; span=(22, 47), match='candy.softy@univrsity.edu'>\n",
      "<re.Match object; span=(48, 75), match='candy-321-softy@my-work.net'>\n"
     ]
    }
   ],
   "source": [
    "pattern = re.compile(r'[a-zA-Z0-9.-]+@[a-zA-Z-]+\\.(com|edu|net)')\n",
    "matches = pattern.finditer(emails) \n",
    "for match in matches:\n",
    "    print(match)"
   ]
  },
  {
   "cell_type": "markdown",
   "id": "fee8236e",
   "metadata": {},
   "source": [
    "### Finding Pattern Ex.3 : How to match and find Regex in groups"
   ]
  },
  {
   "cell_type": "code",
   "execution_count": 69,
   "id": "145e0837",
   "metadata": {},
   "outputs": [
    {
     "name": "stdout",
     "output_type": "stream",
     "text": [
      "https://www.google.com\n",
      "http://candy.com\n",
      "https://youtube.com\n",
      "https://www.nasa.gov\n"
     ]
    }
   ],
   "source": [
    "import re\n",
    "urls=\"\"\"\n",
    "https://www.google.com\n",
    "http://candy.com\n",
    "https://youtube.com\n",
    "https://www.nasa.gov\n",
    "\"\"\"\n",
    "#pattern=re.compile(r'https?://(www\\.)?\\w+\\.\\w+') OR\n",
    "pattern=re.compile(r'https?://(www\\.)?(\\w+)(\\.\\w+)')\n",
    "matches=pattern.finditer(urls)\n",
    "\n",
    "for match in matches:\n",
    "    print(match.group(0))"
   ]
  },
  {
   "cell_type": "code",
   "execution_count": 70,
   "id": "8e8983a0",
   "metadata": {},
   "outputs": [
    {
     "name": "stdout",
     "output_type": "stream",
     "text": [
      "www.\n",
      "None\n",
      "None\n",
      "www.\n"
     ]
    }
   ],
   "source": [
    "pattern=re.compile(r'https?://(www\\.)?(\\w+)(\\.\\w+)')\n",
    "matches=pattern.finditer(urls)\n",
    "\n",
    "for match in matches:\n",
    "    print(match.group(1))"
   ]
  },
  {
   "cell_type": "code",
   "execution_count": 71,
   "id": "6efaebfa",
   "metadata": {},
   "outputs": [
    {
     "name": "stdout",
     "output_type": "stream",
     "text": [
      "google\n",
      "candy\n",
      "youtube\n",
      "nasa\n"
     ]
    }
   ],
   "source": [
    "pattern=re.compile(r'https?://(www\\.)?(\\w+)(\\.\\w+)')\n",
    "matches=pattern.finditer(urls)\n",
    "\n",
    "for match in matches:\n",
    "    print(match.group(2))"
   ]
  },
  {
   "cell_type": "code",
   "execution_count": 72,
   "id": "8b10eef2",
   "metadata": {},
   "outputs": [
    {
     "name": "stdout",
     "output_type": "stream",
     "text": [
      ".com\n",
      ".com\n",
      ".com\n",
      ".gov\n"
     ]
    }
   ],
   "source": [
    "pattern=re.compile(r'https?://(www\\.)?(\\w+)(\\.\\w+)')\n",
    "matches=pattern.finditer(urls)\n",
    "\n",
    "for match in matches:\n",
    "    print(match.group(3))"
   ]
  },
  {
   "cell_type": "code",
   "execution_count": 75,
   "id": "1c6243f6",
   "metadata": {},
   "outputs": [
    {
     "name": "stdout",
     "output_type": "stream",
     "text": [
      "\n",
      "google.com\n",
      "candy.com\n",
      "youtube.com\n",
      "nasa.gov\n",
      "\n"
     ]
    }
   ],
   "source": [
    "pattern=re.compile(r'https?://(www\\.)?(\\w+)(\\.\\w+)')\n",
    "subbed_urls = pattern.sub(r\"\\2\\3\", urls)\n",
    "\n",
    "print(subbed_urls)"
   ]
  },
  {
   "cell_type": "code",
   "execution_count": 55,
   "id": "f83c4616",
   "metadata": {},
   "outputs": [],
   "source": [
    "import re\n",
    "\n",
    "text_to_search=\"\"\"\n",
    "abcdefghijklmnopqrstuvwxyz\n",
    "ABCDEFGHIJKLMNOPQRSTUVWXYZ\n",
    "123-555-1234\n",
    "321.555.4321\n",
    "231*569*778\n",
    "Ha HaHa\n",
    "MetaCharacters (Need to be escaped):\n",
    ". ^ & * + ? {} [] \\ | ()\n",
    "coreyms.com\n",
    "Mr. Schafer\n",
    "Mr Davis\n",
    "Ms Smith\n",
    "Mrs. Robinson\n",
    "Mr. T\n",
    "\n",
    "cat mat pat\n",
    "\"\"\"\n",
    "\n",
    "sentence=\"Start a sentence and then bring it to an end\""
   ]
  },
  {
   "cell_type": "code",
   "execution_count": 50,
   "id": "d84c03f1",
   "metadata": {},
   "outputs": [
    {
     "name": "stdout",
     "output_type": "stream",
     "text": [
      "123-555-1234\n",
      "321.555.4321\n"
     ]
    }
   ],
   "source": [
    "pattern = re.compile(r\"\\d{3}.\\d{3}.\\d{4}\")\n",
    "matches=pattern.findall(text_to_search)\n",
    "for match in matches:\n",
    "    print(match)"
   ]
  },
  {
   "cell_type": "code",
   "execution_count": 56,
   "id": "bb69b8ce",
   "metadata": {},
   "outputs": [
    {
     "name": "stdout",
     "output_type": "stream",
     "text": [
      "<re.Match object; span=(0, 5), match='Start'>\n"
     ]
    }
   ],
   "source": [
    "pattern = re.compile(r\"Start\")\n",
    "matches=pattern.match(sentence) #Searches for the match only at start of string\n",
    "print(matches)"
   ]
  },
  {
   "cell_type": "code",
   "execution_count": 57,
   "id": "b4a0f859",
   "metadata": {},
   "outputs": [
    {
     "name": "stdout",
     "output_type": "stream",
     "text": [
      "None\n"
     ]
    }
   ],
   "source": [
    "pattern = re.compile(r\"sentence\")\n",
    "matches=pattern.match(sentence)\n",
    "print(matches)"
   ]
  },
  {
   "cell_type": "code",
   "execution_count": 59,
   "id": "97ac7755",
   "metadata": {},
   "outputs": [
    {
     "name": "stdout",
     "output_type": "stream",
     "text": [
      "<re.Match object; span=(8, 16), match='sentence'>\n"
     ]
    }
   ],
   "source": [
    "pattern = re.compile(r\"sentence\")\n",
    "matches=pattern.search(sentence) #Searches throughotut the string for the match\n",
    "print(matches)"
   ]
  },
  {
   "cell_type": "markdown",
   "id": "075826d5",
   "metadata": {},
   "source": [
    "#### Flags"
   ]
  },
  {
   "cell_type": "code",
   "execution_count": 63,
   "id": "79733a7a",
   "metadata": {},
   "outputs": [
    {
     "name": "stdout",
     "output_type": "stream",
     "text": [
      "<re.Match object; span=(8, 16), match='sentence'>\n"
     ]
    }
   ],
   "source": [
    "import re\n",
    "sentence=\"Start a sentence and then bring it to an end\"\n",
    "\n",
    "patter=re.compile(r\"start\",re.IGNORECASE)\n",
    "#OR patter=re.compile(r\"start\",re.I)\n",
    "\n",
    "matches=pattern.search(sentence)\n",
    "print(matches)"
   ]
  },
  {
   "cell_type": "markdown",
   "id": "a9ef7ac7-ee52-41db-85ae-b677e3b8da81",
   "metadata": {},
   "source": [
    "### Finding pattern Ex.4"
   ]
  },
  {
   "cell_type": "code",
   "execution_count": 76,
   "id": "fc7616ec-723d-49f4-b4df-adf5c0a230a9",
   "metadata": {},
   "outputs": [
    {
     "name": "stdout",
     "output_type": "stream",
     "text": [
      "['s', 'h', 'e', ' ', 's', 'e', 'l', 'l', 's', ' ', 't', 'h', 'e', ' ', 's', 'e', 'a', ' ', 's', 'h', 'e', 'l', 'l', 's', ' ', 'o', 'n', ' ', 't', 'h', 'e', ' ', 's', 'e', 'a', ' ', 's', 'h', 'o', 'r', 'e', ' ', '@', '$', '1', '2', ' ', '1', '2', '3', '.', '5', '5', '5', '.', '1', '2', '3', '4']\n"
     ]
    }
   ],
   "source": [
    "import re\n",
    "\n",
    "text_to_search = '''\n",
    "abcdefghijklmnopqurtuvwxyz\n",
    "ABCDEFGHIJKLMNOPQRSTUVWXYZ\n",
    "1234567890\n",
    "Ha HaHa\n",
    "MetaCharacters (Need to be escaped):\n",
    ". ^ $ * + ? { } [ ] \\ | ( )\n",
    "coreyms.com\n",
    "321-555-4321\n",
    "321-555-4321123\n",
    "123.555.1234\n",
    "123*555*12\n",
    "700*788*7785\n",
    "800-555-1234\n",
    "900-555-1234\n",
    "Mr. Sachin\n",
    "Mr Kevin\n",
    "Ms David\n",
    "Mrs. Raonsla\n",
    "Mr. Tiago\n",
    "enjoying@gmail.com\n",
    "'''\n",
    "sent = \"she sells the sea shells on the sea shore @$12 123.555.1234\"\n",
    "\n",
    "exp = r'.'\n",
    "print (re.findall(exp, sent))"
   ]
  },
  {
   "cell_type": "code",
   "execution_count": 19,
   "id": "9d07073f-1f0a-476c-b447-61b6c4ce3de3",
   "metadata": {},
   "outputs": [
    {
     "name": "stdout",
     "output_type": "stream",
     "text": [
      "['1', '2', '1', '2', '3', '5', '5', '5', '1', '2', '3', '4']\n"
     ]
    }
   ],
   "source": [
    "exp1 = r'\\d'\n",
    "print (re.findall(exp1, sent))"
   ]
  },
  {
   "cell_type": "code",
   "execution_count": 20,
   "id": "deb525fc-2d8d-41ca-803f-640f4dbb6a6f",
   "metadata": {},
   "outputs": [
    {
     "name": "stdout",
     "output_type": "stream",
     "text": [
      "['s', 'h', 'e', ' ', 's', 'e', 'l', 'l', 's', ' ', 't', 'h', 'e', ' ', 's', 'e', 'a', ' ', 's', 'h', 'e', 'l', 'l', 's', ' ', 'o', 'n', ' ', 't', 'h', 'e', ' ', 's', 'e', 'a', ' ', 's', 'h', 'o', 'r', 'e', ' ', '@', '$', ' ', '.', '.']\n"
     ]
    }
   ],
   "source": [
    "exp2 = r'\\D'\n",
    "print (re.findall(exp2, sent))"
   ]
  },
  {
   "cell_type": "code",
   "execution_count": 21,
   "id": "710fd2eb-f5f7-4cb3-b455-aefd46c7b83a",
   "metadata": {},
   "outputs": [
    {
     "name": "stdout",
     "output_type": "stream",
     "text": [
      "['s', 'h', 'e', 's', 'e', 'l', 'l', 's', 't', 'h', 'e', 's', 'e', 'a', 's', 'h', 'e', 'l', 'l', 's', 'o', 'n', 't', 'h', 'e', 's', 'e', 'a', 's', 'h', 'o', 'r', 'e', '1', '2', '1', '2', '3', '5', '5', '5', '1', '2', '3', '4']\n"
     ]
    }
   ],
   "source": [
    "exp3 = r'\\w'\n",
    "print (re.findall(exp3, sent))"
   ]
  },
  {
   "cell_type": "code",
   "execution_count": 22,
   "id": "4f145ee4-d6b9-409a-a326-b61e2eda3493",
   "metadata": {},
   "outputs": [
    {
     "name": "stdout",
     "output_type": "stream",
     "text": [
      "[' ', ' ', ' ', ' ', ' ', ' ', ' ', ' ', ' ', '@', '$', ' ', '.', '.']\n"
     ]
    }
   ],
   "source": [
    "exp4 = r'\\W'\n",
    "print (re.findall(exp4, sent))"
   ]
  },
  {
   "cell_type": "code",
   "execution_count": 23,
   "id": "46948a99-68e1-4247-a92f-ff011de33690",
   "metadata": {},
   "outputs": [
    {
     "name": "stdout",
     "output_type": "stream",
     "text": [
      "[' ', ' ', ' ', ' ', ' ', ' ', ' ', ' ', ' ', ' ']\n"
     ]
    }
   ],
   "source": [
    "exp5 = r'\\s'\n",
    "print (re.findall(exp5, sent))"
   ]
  },
  {
   "cell_type": "code",
   "execution_count": 24,
   "id": "a52cb3a7-126b-4aa0-9553-5dde8daa6d75",
   "metadata": {},
   "outputs": [
    {
     "name": "stdout",
     "output_type": "stream",
     "text": [
      "['s', 'h', 'e', 's', 'e', 'l', 'l', 's', 't', 'h', 'e', 's', 'e', 'a', 's', 'h', 'e', 'l', 'l', 's', 'o', 'n', 't', 'h', 'e', 's', 'e', 'a', 's', 'h', 'o', 'r', 'e', '@', '$', '1', '2', '1', '2', '3', '.', '5', '5', '5', '.', '1', '2', '3', '4']\n"
     ]
    }
   ],
   "source": [
    "exp6 = r'\\S'\n",
    "print (re.findall(exp6, sent))"
   ]
  },
  {
   "cell_type": "code",
   "execution_count": 25,
   "id": "1f21f272-cac7-434a-a31e-342c5909e082",
   "metadata": {},
   "outputs": [
    {
     "name": "stdout",
     "output_type": "stream",
     "text": [
      "['she']\n"
     ]
    }
   ],
   "source": [
    "exp7 = r'\\bshe\\b'\n",
    "print (re.findall(exp7, sent))"
   ]
  },
  {
   "cell_type": "code",
   "execution_count": 26,
   "id": "2d949d9c-3231-486a-8b4c-3e1f6f7a3458",
   "metadata": {},
   "outputs": [
    {
     "name": "stdout",
     "output_type": "stream",
     "text": [
      "['she']\n"
     ]
    }
   ],
   "source": [
    "exp8 = r'she\\B'\n",
    "print (re.findall(exp8, sent))"
   ]
  },
  {
   "cell_type": "code",
   "execution_count": 27,
   "id": "6cebf7ce-4da3-49aa-9a45-b6bf536a7bf7",
   "metadata": {},
   "outputs": [
    {
     "name": "stdout",
     "output_type": "stream",
     "text": [
      "['s']\n"
     ]
    }
   ],
   "source": [
    "exp9 = r'^s'\n",
    "print (re.findall(exp9, sent))"
   ]
  },
  {
   "cell_type": "code",
   "execution_count": 28,
   "id": "4c44bdcc-0b1c-44c3-9161-8dec71f6eb95",
   "metadata": {},
   "outputs": [
    {
     "name": "stdout",
     "output_type": "stream",
     "text": [
      "['e', 'e', 'e', 'e', 'a', 'e', 'e', 'e', 'a', 'e']\n"
     ]
    }
   ],
   "source": [
    "exp10 = r'[a-gA-Z]'\n",
    "print (re.findall(exp10, sent))"
   ]
  },
  {
   "cell_type": "code",
   "execution_count": 29,
   "id": "51d84b9e-24e1-40e2-8e49-61dd2f7bd6bd",
   "metadata": {},
   "outputs": [
    {
     "name": "stdout",
     "output_type": "stream",
     "text": [
      "['123.555.123']\n"
     ]
    }
   ],
   "source": [
    "exp11 = r'\\d{3}.\\d{3}.\\d{3}'\n",
    "print (re.findall(exp11, sent))"
   ]
  },
  {
   "cell_type": "code",
   "execution_count": 30,
   "id": "be4f7ee0-6fb3-46e5-9343-7b349eecc705",
   "metadata": {},
   "outputs": [
    {
     "name": "stdout",
     "output_type": "stream",
     "text": [
      "['enjoying@gmail.com']\n"
     ]
    }
   ],
   "source": [
    "exp12 = r'[\\w.%-_]{2,20}[@][\\w]{3}.[\\w.]{2,20}'\n",
    "print (re.findall(exp12, text_to_search))"
   ]
  },
  {
   "cell_type": "code",
   "execution_count": 31,
   "id": "6e776853-039f-4d3c-be65-7febabdce365",
   "metadata": {},
   "outputs": [
    {
     "name": "stdout",
     "output_type": "stream",
     "text": [
      "['321-555-432', '321-555-432', '123.555.123', '700*788*778', '800-555-123', '900-555-123']\n"
     ]
    }
   ],
   "source": [
    "exp13 = r'\\d{3}.\\d{3}.\\d{3}'\n",
    "print (re.findall(exp13,text_to_search))"
   ]
  },
  {
   "cell_type": "code",
   "execution_count": 32,
   "id": "d2756f32-1ba5-4a20-ab5b-016ef2eddb1b",
   "metadata": {},
   "outputs": [
    {
     "name": "stdout",
     "output_type": "stream",
     "text": [
      "['Mr. Sachin', 'Mr Kevin', 'Ms David', 'Mrs. Raonsla', 'Mr. Tiago']\n"
     ]
    }
   ],
   "source": [
    "exp14 = r'[Mrs.]+\\s[A-Z][a-z]*'   # *--> 0 or more\n",
    "print (re.findall(exp14,text_to_search))"
   ]
  },
  {
   "cell_type": "code",
   "execution_count": 33,
   "id": "2dbd3491-ff98-4572-ad17-32c789530529",
   "metadata": {},
   "outputs": [
    {
     "name": "stdout",
     "output_type": "stream",
     "text": [
      "['Mr. Sachin', 'Mr Kevin', 'Ms David', 'Mrs. Raonsla', 'Mr. Tiago']\n"
     ]
    }
   ],
   "source": [
    "exp15 = r'M[r-s].*\\S.*'   # *--> 0 or more\n",
    "print (re.findall(exp15,text_to_search))"
   ]
  },
  {
   "cell_type": "code",
   "execution_count": 34,
   "id": "c438d81a-a101-4731-91c6-8a95ac6f26a4",
   "metadata": {},
   "outputs": [
    {
     "name": "stdout",
     "output_type": "stream",
     "text": [
      "['enjoying@gmail.com']\n"
     ]
    }
   ],
   "source": [
    "exp16 = r'\\S+@\\S+'   # *--> 0 or more\n",
    "print (re.findall(exp16,text_to_search))"
   ]
  },
  {
   "cell_type": "code",
   "execution_count": null,
   "id": "477e00dd-daf9-41c4-bc2e-667f009fad39",
   "metadata": {},
   "outputs": [],
   "source": []
  }
 ],
 "metadata": {
  "kernelspec": {
   "display_name": "Python 3 (ipykernel)",
   "language": "python",
   "name": "python3"
  },
  "language_info": {
   "codemirror_mode": {
    "name": "ipython",
    "version": 3
   },
   "file_extension": ".py",
   "mimetype": "text/x-python",
   "name": "python",
   "nbconvert_exporter": "python",
   "pygments_lexer": "ipython3",
   "version": "3.9.13"
  }
 },
 "nbformat": 4,
 "nbformat_minor": 5
}
