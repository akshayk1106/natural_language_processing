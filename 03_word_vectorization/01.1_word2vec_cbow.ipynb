{
 "cells": [
  {
   "cell_type": "markdown",
   "metadata": {},
   "source": [
    "## <mark> Continuous Bag of Words\n",
    "\n",
    "Every word is assigned a vector.\n",
    "We try to fit neighbouring words in the window to the central word."
   ]
  },
  {
   "cell_type": "markdown",
   "metadata": {},
   "source": [
    "### Imports"
   ]
  },
  {
   "cell_type": "code",
   "execution_count": 2,
   "metadata": {},
   "outputs": [],
   "source": [
    "import re\n",
    "import numpy as np\n",
    "import matplotlib.pyplot as plt"
   ]
  },
  {
   "cell_type": "markdown",
   "metadata": {},
   "source": [
    "### Data"
   ]
  },
  {
   "cell_type": "code",
   "execution_count": 1,
   "metadata": {},
   "outputs": [],
   "source": [
    "sentences = \"\"\"Canada is a country in North America. \n",
    "Its ten provinces and three territories extend \n",
    "from the Atlantic Ocean to the Pacific Ocean and northward into the Arctic Ocean, \n",
    "making it the world's second-largest country by total area, with the world's longest coastline.\"\"\""
   ]
  },
  {
   "cell_type": "markdown",
   "metadata": {},
   "source": [
    "### Clean Data"
   ]
  },
  {
   "cell_type": "code",
   "execution_count": 3,
   "metadata": {},
   "outputs": [
    {
     "data": {
      "text/plain": [
       "'Canada is a country in North America Its ten provinces and three territories extend from the Atlantic Ocean to the Pacific Ocean and northward into the Arctic Ocean making it the world s second largest country by total area with the world s longest coastline '"
      ]
     },
     "execution_count": 3,
     "metadata": {},
     "output_type": "execute_result"
    }
   ],
   "source": [
    "# remove special characters\n",
    "sentences = re.sub('[^A-Za-z0-9]+', ' ', sentences)\n",
    "sentences"
   ]
  },
  {
   "cell_type": "code",
   "execution_count": 4,
   "metadata": {},
   "outputs": [
    {
     "data": {
      "text/plain": [
       "'Canada is country in North America Its ten provinces and three territories extend from the Atlantic Ocean to the Pacific Ocean and northward into the Arctic Ocean making it the world second largest country by total area with the world longest coastline'"
      ]
     },
     "execution_count": 4,
     "metadata": {},
     "output_type": "execute_result"
    }
   ],
   "source": [
    "# remove 1 letter words\n",
    "sentences = re.sub(r'(?:^| )\\w(?:$| )', ' ', sentences).strip()\n",
    "sentences"
   ]
  },
  {
   "cell_type": "code",
   "execution_count": 5,
   "metadata": {},
   "outputs": [
    {
     "data": {
      "text/plain": [
       "'canada is country in north america its ten provinces and three territories extend from the atlantic ocean to the pacific ocean and northward into the arctic ocean making it the world second largest country by total area with the world longest coastline'"
      ]
     },
     "execution_count": 5,
     "metadata": {},
     "output_type": "execute_result"
    }
   ],
   "source": [
    "# lower all characters\n",
    "sentences = sentences.lower()\n",
    "sentences"
   ]
  },
  {
   "cell_type": "markdown",
   "metadata": {},
   "source": [
    "### vocabulary"
   ]
  },
  {
   "cell_type": "code",
   "execution_count": 6,
   "metadata": {},
   "outputs": [],
   "source": [
    "words = sentences.split()"
   ]
  },
  {
   "cell_type": "code",
   "execution_count": 7,
   "metadata": {},
   "outputs": [],
   "source": [
    "vocab = set(words)"
   ]
  },
  {
   "cell_type": "code",
   "execution_count": 10,
   "metadata": {},
   "outputs": [
    {
     "name": "stdout",
     "output_type": "stream",
     "text": [
      "33\n"
     ]
    }
   ],
   "source": [
    "vocab_size = len(vocab)\n",
    "print(len(vocab))\n",
    "\n",
    "embed_dim = 10\n",
    "context_size = 2"
   ]
  },
  {
   "cell_type": "markdown",
   "metadata": {},
   "source": [
    "### Dictionaries for vocab"
   ]
  },
  {
   "cell_type": "code",
   "execution_count": 11,
   "metadata": {},
   "outputs": [
    {
     "data": {
      "text/plain": [
       "{'making': 0,\n",
       " 'by': 1,\n",
       " 'ocean': 2,\n",
       " 'country': 3,\n",
       " 'extend': 4,\n",
       " 'territories': 5,\n",
       " 'world': 6,\n",
       " 'is': 7,\n",
       " 'from': 8,\n",
       " 'northward': 9,\n",
       " 'the': 10,\n",
       " 'second': 11,\n",
       " 'area': 12,\n",
       " 'in': 13,\n",
       " 'total': 14,\n",
       " 'it': 15,\n",
       " 'north': 16,\n",
       " 'largest': 17,\n",
       " 'pacific': 18,\n",
       " 'longest': 19,\n",
       " 'arctic': 20,\n",
       " 'america': 21,\n",
       " 'three': 22,\n",
       " 'canada': 23,\n",
       " 'to': 24,\n",
       " 'its': 25,\n",
       " 'ten': 26,\n",
       " 'and': 27,\n",
       " 'into': 28,\n",
       " 'coastline': 29,\n",
       " 'atlantic': 30,\n",
       " 'provinces': 31,\n",
       " 'with': 32}"
      ]
     },
     "execution_count": 11,
     "metadata": {},
     "output_type": "execute_result"
    }
   ],
   "source": [
    "word_to_ix = {word: i for i, word in enumerate(vocab)}\n",
    "word_to_ix"
   ]
  },
  {
   "cell_type": "code",
   "execution_count": 14,
   "metadata": {},
   "outputs": [],
   "source": [
    "ix_to_word = {i: word for i, word in enumerate(vocab)}"
   ]
  },
  {
   "cell_type": "markdown",
   "metadata": {},
   "source": [
    "### Data bags"
   ]
  },
  {
   "cell_type": "code",
   "execution_count": 15,
   "metadata": {},
   "outputs": [
    {
     "name": "stdout",
     "output_type": "stream",
     "text": [
      "['canada', 'is', 'country', 'in', 'north', 'america', 'its', 'ten', 'provinces', 'and', 'three', 'territories', 'extend', 'from', 'the', 'atlantic', 'ocean', 'to', 'the', 'pacific', 'ocean', 'and', 'northward', 'into', 'the', 'arctic', 'ocean', 'making', 'it', 'the', 'world', 'second', 'largest', 'country', 'by', 'total', 'area', 'with', 'the', 'world', 'longest', 'coastline']\n"
     ]
    }
   ],
   "source": [
    "print(words)"
   ]
  },
  {
   "cell_type": "code",
   "execution_count": 16,
   "metadata": {},
   "outputs": [
    {
     "name": "stdout",
     "output_type": "stream",
     "text": [
      "[(['canada', 'is', 'in', 'north'], 'country')]\n"
     ]
    }
   ],
   "source": [
    "data = []\n",
    "for i in range(2, len(words) - 2):\n",
    "    context = [words[i - 2], words[i - 1], words[i + 1], words[i + 2]]\n",
    "    target = words[i]\n",
    "    data.append((context, target))\n",
    "    \n",
    "print(data[:1])"
   ]
  },
  {
   "cell_type": "markdown",
   "metadata": {},
   "source": [
    "### Embeddings"
   ]
  },
  {
   "cell_type": "code",
   "execution_count": 21,
   "metadata": {},
   "outputs": [
    {
     "name": "stdout",
     "output_type": "stream",
     "text": [
      "(33, 10)\n"
     ]
    },
    {
     "data": {
      "text/plain": [
       "array([[0.8175968 , 0.87943052, 0.41856993, 0.11690787, 0.11593224,\n",
       "        0.98739287, 0.15458912, 0.36984107, 0.71977256, 0.78904655],\n",
       "       [0.61917216, 0.92077002, 0.6215365 , 0.06413199, 0.30953235,\n",
       "        0.81263181, 0.91998709, 0.11887873, 0.96507578, 0.6090109 ],\n",
       "       [0.40840095, 0.40917227, 0.40420669, 0.83122772, 0.26271051,\n",
       "        0.02782673, 0.91559529, 0.14984849, 0.15832209, 0.52659874],\n",
       "       [0.9858313 , 0.77874087, 0.71796985, 0.66435336, 0.74509188,\n",
       "        0.85010792, 0.51781306, 0.37489027, 0.25116166, 0.68293162],\n",
       "       [0.51262766, 0.40536333, 0.68350078, 0.76649417, 0.04633286,\n",
       "        0.93975756, 0.71530574, 0.50312058, 0.20731707, 0.43549446],\n",
       "       [0.67804857, 0.55641883, 0.57830063, 0.05490186, 0.92837343,\n",
       "        0.93048098, 0.64983305, 0.34051296, 0.64830024, 0.66000005],\n",
       "       [0.96456257, 0.50980442, 0.669501  , 0.91938682, 0.94612973,\n",
       "        0.91225676, 0.12926265, 0.71954457, 0.67183075, 0.58733488],\n",
       "       [0.15210959, 0.26510371, 0.22018755, 0.32004026, 0.37030497,\n",
       "        0.31034618, 0.69445851, 0.97112487, 0.8403134 , 0.87986415],\n",
       "       [0.77501215, 0.92924532, 0.55511355, 0.22266978, 0.91197216,\n",
       "        0.54319054, 0.98877807, 0.22758716, 0.90134425, 0.84364314],\n",
       "       [0.00748436, 0.90491234, 0.09450433, 0.900555  , 0.92740609,\n",
       "        0.7954125 , 0.05338299, 0.02067263, 0.86893365, 0.07814015],\n",
       "       [0.43958813, 0.00482468, 0.34639767, 0.34494257, 0.91058642,\n",
       "        0.52802254, 0.18911247, 0.9784615 , 0.19018   , 0.60582244],\n",
       "       [0.86423945, 0.99249472, 0.66020438, 0.28487131, 0.54574792,\n",
       "        0.06137957, 0.50220987, 0.32614095, 0.46573529, 0.02408299],\n",
       "       [0.90681449, 0.37577041, 0.20150771, 0.81182005, 0.60571115,\n",
       "        0.16830692, 0.90616178, 0.53808226, 0.23867715, 0.07841206],\n",
       "       [0.84458279, 0.89639176, 0.10835503, 0.43332782, 0.90653127,\n",
       "        0.72664007, 0.01165125, 0.8702022 , 0.80104731, 0.73877434],\n",
       "       [0.95925895, 0.64958056, 0.9658918 , 0.11372182, 0.85869543,\n",
       "        0.87818665, 0.21486679, 0.58811509, 0.41121359, 0.15307822],\n",
       "       [0.93707555, 0.8500854 , 0.59383178, 0.9083366 , 0.48194812,\n",
       "        0.18206457, 0.79002481, 0.29831955, 0.77896245, 0.49652172],\n",
       "       [0.46271149, 0.29879279, 0.93979445, 0.83472858, 0.28438998,\n",
       "        0.09720294, 0.82892757, 0.587068  , 0.34420706, 0.61823651],\n",
       "       [0.69683416, 0.8413499 , 0.94188864, 0.96443027, 0.5572248 ,\n",
       "        0.19338176, 0.76024243, 0.0762769 , 0.94633786, 0.82999105],\n",
       "       [0.26921033, 0.69549599, 0.33558506, 0.38882007, 0.02188105,\n",
       "        0.87917517, 0.62029235, 0.96091906, 0.36787666, 0.64081009],\n",
       "       [0.63620794, 0.18898009, 0.67660082, 0.62716969, 0.22847646,\n",
       "        0.55052369, 0.05095021, 0.52941838, 0.65515129, 0.40130549],\n",
       "       [0.58268625, 0.01642546, 0.64783455, 0.61781215, 0.3917958 ,\n",
       "        0.98000516, 0.81506086, 0.98713592, 0.87630208, 0.44957968],\n",
       "       [0.07888412, 0.907899  , 0.23244966, 0.89511596, 0.58073473,\n",
       "        0.50794999, 0.08457774, 0.64999588, 0.28335487, 0.82927108],\n",
       "       [0.7313947 , 0.39753037, 0.5945939 , 0.97163694, 0.73640834,\n",
       "        0.800247  , 0.35348898, 0.73738342, 0.49351729, 0.09374806],\n",
       "       [0.17796218, 0.15209867, 0.31169801, 0.9591871 , 0.22158351,\n",
       "        0.67464952, 0.4636222 , 0.58470149, 0.29917406, 0.30795477],\n",
       "       [0.41146045, 0.31671856, 0.36689955, 0.48528374, 0.03136426,\n",
       "        0.105008  , 0.37404152, 0.33475955, 0.50658464, 0.47646421],\n",
       "       [0.03962512, 0.19353843, 0.43362118, 0.68866026, 0.5729177 ,\n",
       "        0.15379861, 0.26373992, 0.02758538, 0.13846228, 0.50778986],\n",
       "       [0.21687569, 0.67772996, 0.04061704, 0.68041085, 0.82780783,\n",
       "        0.27895916, 0.27138345, 0.56460804, 0.79722083, 0.57020235],\n",
       "       [0.21602677, 0.17421299, 0.55190238, 0.64226509, 0.83292682,\n",
       "        0.36995003, 0.79244579, 0.11671625, 0.99007042, 0.70319564],\n",
       "       [0.42787945, 0.0858196 , 0.26876634, 0.51361887, 0.2226679 ,\n",
       "        0.06890209, 0.07253941, 0.81606083, 0.77353907, 0.8381064 ],\n",
       "       [0.71410858, 0.54797613, 0.44449524, 0.10606924, 0.9009009 ,\n",
       "        0.60844597, 0.55046903, 0.71149853, 0.94846444, 0.26202251],\n",
       "       [0.57309824, 0.72954194, 0.38188684, 0.6886198 , 0.57112044,\n",
       "        0.81609709, 0.65449767, 0.91683949, 0.16185011, 0.95317144],\n",
       "       [0.91935764, 0.39718496, 0.1815084 , 0.3974253 , 0.26210604,\n",
       "        0.05288375, 0.97108588, 0.93413856, 0.48585116, 0.36492561],\n",
       "       [0.72121909, 0.80549914, 0.3548137 , 0.16877087, 0.50956842,\n",
       "        0.7370611 , 0.54799151, 0.45963587, 0.79570137, 0.49791439]])"
      ]
     },
     "execution_count": 21,
     "metadata": {},
     "output_type": "execute_result"
    }
   ],
   "source": [
    "vocab_size = len(vocab)\n",
    "embed_dim = 10\n",
    "\n",
    "embeddings =  np.random.random_sample((vocab_size, embed_dim))\n",
    "# np.random.random_sample # Return random floats in the half-open interval [0.0, 1.0)\n",
    "\n",
    "print(embeddings.shape)\n",
    "embeddings"
   ]
  },
  {
   "cell_type": "markdown",
   "metadata": {},
   "source": [
    "### Linear Model"
   ]
  },
  {
   "cell_type": "code",
   "execution_count": 22,
   "metadata": {},
   "outputs": [],
   "source": [
    "# y = mx + theta\n",
    "def linear(m, theta):\n",
    "    w = theta\n",
    "    return m.dot(w)"
   ]
  },
  {
   "cell_type": "markdown",
   "metadata": {},
   "source": [
    "### Log softmax + NLLloss = Cross Entropy"
   ]
  },
  {
   "cell_type": "code",
   "execution_count": 30,
   "metadata": {},
   "outputs": [],
   "source": [
    "def log_softmax(x):\n",
    "    e_x = np.exp(x - np.max(x))\n",
    "    return np.log(e_x / e_x.sum())"
   ]
  },
  {
   "cell_type": "code",
   "execution_count": 31,
   "metadata": {},
   "outputs": [],
   "source": [
    "def NLLLoss(logs, targets):\n",
    "    out = logs[range(len(targets)), targets]\n",
    "    return -out.sum()/len(out)"
   ]
  },
  {
   "cell_type": "code",
   "execution_count": 32,
   "metadata": {},
   "outputs": [],
   "source": [
    "def log_softmax_crossentropy_with_logits(logits,target):\n",
    "\n",
    "    out = np.zeros_like(logits)\n",
    "    out[np.arange(len(logits)),target] = 1\n",
    "    \n",
    "    softmax = np.exp(logits) / np.exp(logits).sum(axis=-1,keepdims=True)\n",
    "    \n",
    "    return (- out + softmax) / logits.shape[0]"
   ]
  },
  {
   "cell_type": "markdown",
   "metadata": {},
   "source": [
    "### Forward function"
   ]
  },
  {
   "cell_type": "code",
   "execution_count": 33,
   "metadata": {},
   "outputs": [],
   "source": [
    "def forward(context_idxs, theta):\n",
    "    m = embeddings[context_idxs].reshape(1, -1)\n",
    "    n = linear(m, theta)\n",
    "    o = log_softmax(n)\n",
    "    return m, n, o"
   ]
  },
  {
   "cell_type": "markdown",
   "metadata": {},
   "source": [
    "### Backward function"
   ]
  },
  {
   "cell_type": "code",
   "execution_count": 34,
   "metadata": {},
   "outputs": [],
   "source": [
    "def backward(preds, theta, target_idxs):\n",
    "    m, n, o = preds\n",
    "    dlog = log_softmax_crossentropy_with_logits(n, target_idxs)\n",
    "    dw = m.T.dot(dlog)\n",
    "    return dw"
   ]
  },
  {
   "cell_type": "markdown",
   "metadata": {},
   "source": [
    "### Optimize function"
   ]
  },
  {
   "cell_type": "code",
   "execution_count": 35,
   "metadata": {},
   "outputs": [],
   "source": [
    "def optimize(theta, grad, lr=0.03):\n",
    "    theta -= grad * lr\n",
    "    return theta"
   ]
  },
  {
   "cell_type": "markdown",
   "metadata": {},
   "source": [
    "### Training function"
   ]
  },
  {
   "cell_type": "code",
   "execution_count": 36,
   "metadata": {},
   "outputs": [
    {
     "data": {
      "text/plain": [
       "array([[-0.39258048,  0.97369652, -0.07154428, ..., -0.06634685,\n",
       "         0.86805   , -0.08847551],\n",
       "       [ 0.94173448,  0.30912667, -0.73046244, ..., -0.87542436,\n",
       "         0.4535658 , -0.53203673],\n",
       "       [ 0.05451803, -0.56933751,  0.74802829, ..., -0.37563336,\n",
       "        -0.73767917,  0.49479838],\n",
       "       ...,\n",
       "       [ 0.23187637,  0.5805052 , -0.69568239, ...,  0.22804983,\n",
       "         0.01471883,  0.21707486],\n",
       "       [-0.28561468,  0.40580853, -0.58697418, ..., -0.41463447,\n",
       "         0.2805638 , -0.34786746],\n",
       "       [-0.57365642,  0.98959971, -0.74492637, ...,  0.67905934,\n",
       "         0.47346505, -0.39591675]])"
      ]
     },
     "execution_count": 36,
     "metadata": {},
     "output_type": "execute_result"
    }
   ],
   "source": [
    "theta = np.random.uniform(-1, 1, (2 * context_size * embed_dim, vocab_size))\n",
    "theta"
   ]
  },
  {
   "cell_type": "code",
   "execution_count": 37,
   "metadata": {},
   "outputs": [
    {
     "data": {
      "text/plain": [
       "[(['canada', 'is', 'in', 'north'], 'country'),\n",
       " (['is', 'country', 'north', 'america'], 'in')]"
      ]
     },
     "execution_count": 37,
     "metadata": {},
     "output_type": "execute_result"
    }
   ],
   "source": [
    "data[:2]"
   ]
  },
  {
   "cell_type": "code",
   "execution_count": 38,
   "metadata": {},
   "outputs": [],
   "source": [
    "epoch_losses = {}\n",
    "\n",
    "for epoch in range(80):\n",
    "\n",
    "    losses =  []\n",
    "\n",
    "    for context, target in data:\n",
    "        context_idxs = np.array([word_to_ix[w] for w in context])\n",
    "        preds = forward(context_idxs, theta)\n",
    "\n",
    "        target_idxs = np.array([word_to_ix[target]])\n",
    "        loss = NLLLoss(preds[-1], target_idxs)\n",
    "\n",
    "        losses.append(loss)\n",
    "\n",
    "        grad = backward(preds, theta, target_idxs)\n",
    "        theta = optimize(theta, grad, lr=0.03)\n",
    "        \n",
    "     \n",
    "    epoch_losses[epoch] = losses"
   ]
  },
  {
   "cell_type": "markdown",
   "metadata": {},
   "source": [
    "### Plot loss/epoch"
   ]
  },
  {
   "cell_type": "code",
   "execution_count": 39,
   "metadata": {},
   "outputs": [
    {
     "data": {
      "text/plain": [
       "Text(0, 0.5, 'Losses')"
      ]
     },
     "execution_count": 39,
     "metadata": {},
     "output_type": "execute_result"
    },
    {
     "data": {
      "image/png": "[encoded data removed]",
      "text/plain": [
       "<Figure size 640x480 with 1 Axes>"
      ]
     },
     "metadata": {},
     "output_type": "display_data"
    }
   ],
   "source": [
    "ix = np.arange(0,80)\n",
    "\n",
    "fig = plt.figure()\n",
    "fig.suptitle('Epoch/Losses', fontsize=20)\n",
    "plt.plot(ix,[epoch_losses[i][0] for i in ix])\n",
    "plt.xlabel('Epochs', fontsize=12)\n",
    "plt.ylabel('Losses', fontsize=12)"
   ]
  },
  {
   "cell_type": "markdown",
   "metadata": {},
   "source": [
    "### Predict function"
   ]
  },
  {
   "cell_type": "code",
   "execution_count": 40,
   "metadata": {},
   "outputs": [],
   "source": [
    "def predict(words):\n",
    "    context_idxs = np.array([word_to_ix[w] for w in words])\n",
    "    preds = forward(context_idxs, theta)\n",
    "    word = ix_to_word[np.argmax(preds[-1])]\n",
    "    \n",
    "    return word"
   ]
  },
  {
   "cell_type": "code",
   "execution_count": 52,
   "metadata": {},
   "outputs": [
    {
     "data": {
      "text/plain": [
       "'provinces'"
      ]
     },
     "execution_count": 52,
     "metadata": {},
     "output_type": "execute_result"
    }
   ],
   "source": [
    "# (['canada', 'is', 'in', 'north'], 'country')\n",
    "# (['its', 'ten', 'and', 'three'], 'provinces')\n",
    "predict(['canada', 'ten', 'and', 'atlantic'])"
   ]
  },
  {
   "cell_type": "code",
   "execution_count": 49,
   "metadata": {},
   "outputs": [
    {
     "data": {
      "text/plain": [
       "[(['canada', 'is', 'in', 'north'], 'country'),\n",
       " (['is', 'country', 'north', 'america'], 'in'),\n",
       " (['country', 'in', 'america', 'its'], 'north'),\n",
       " (['in', 'north', 'its', 'ten'], 'america'),\n",
       " (['north', 'america', 'ten', 'provinces'], 'its'),\n",
       " (['america', 'its', 'provinces', 'and'], 'ten'),\n",
       " (['its', 'ten', 'and', 'three'], 'provinces'),\n",
       " (['ten', 'provinces', 'three', 'territories'], 'and'),\n",
       " (['provinces', 'and', 'territories', 'extend'], 'three'),\n",
       " (['and', 'three', 'extend', 'from'], 'territories'),\n",
       " (['three', 'territories', 'from', 'the'], 'extend'),\n",
       " (['territories', 'extend', 'the', 'atlantic'], 'from'),\n",
       " (['extend', 'from', 'atlantic', 'ocean'], 'the'),\n",
       " (['from', 'the', 'ocean', 'to'], 'atlantic'),\n",
       " (['the', 'atlantic', 'to', 'the'], 'ocean'),\n",
       " (['atlantic', 'ocean', 'the', 'pacific'], 'to'),\n",
       " (['ocean', 'to', 'pacific', 'ocean'], 'the'),\n",
       " (['to', 'the', 'ocean', 'and'], 'pacific'),\n",
       " (['the', 'pacific', 'and', 'northward'], 'ocean'),\n",
       " (['pacific', 'ocean', 'northward', 'into'], 'and'),\n",
       " (['ocean', 'and', 'into', 'the'], 'northward'),\n",
       " (['and', 'northward', 'the', 'arctic'], 'into'),\n",
       " (['northward', 'into', 'arctic', 'ocean'], 'the'),\n",
       " (['into', 'the', 'ocean', 'making'], 'arctic'),\n",
       " (['the', 'arctic', 'making', 'it'], 'ocean'),\n",
       " (['arctic', 'ocean', 'it', 'the'], 'making'),\n",
       " (['ocean', 'making', 'the', 'world'], 'it'),\n",
       " (['making', 'it', 'world', 'second'], 'the'),\n",
       " (['it', 'the', 'second', 'largest'], 'world'),\n",
       " (['the', 'world', 'largest', 'country'], 'second'),\n",
       " (['world', 'second', 'country', 'by'], 'largest'),\n",
       " (['second', 'largest', 'by', 'total'], 'country'),\n",
       " (['largest', 'country', 'total', 'area'], 'by'),\n",
       " (['country', 'by', 'area', 'with'], 'total'),\n",
       " (['by', 'total', 'with', 'the'], 'area'),\n",
       " (['total', 'area', 'the', 'world'], 'with'),\n",
       " (['area', 'with', 'world', 'longest'], 'the'),\n",
       " (['with', 'the', 'longest', 'coastline'], 'world')]"
      ]
     },
     "execution_count": 49,
     "metadata": {},
     "output_type": "execute_result"
    }
   ],
   "source": [
    "data"
   ]
  },
  {
   "cell_type": "markdown",
   "metadata": {},
   "source": [
    "### Accuracy"
   ]
  },
  {
   "cell_type": "code",
   "execution_count": 53,
   "metadata": {},
   "outputs": [],
   "source": [
    "def accuracy():\n",
    "    wrong = 0\n",
    "\n",
    "    for context, target in data:\n",
    "        if(predict(context) != target):\n",
    "            wrong += 1\n",
    "            \n",
    "    return (1 - (wrong / len(data)))"
   ]
  },
  {
   "cell_type": "code",
   "execution_count": 54,
   "metadata": {},
   "outputs": [
    {
     "data": {
      "text/plain": [
       "1.0"
      ]
     },
     "execution_count": 54,
     "metadata": {},
     "output_type": "execute_result"
    }
   ],
   "source": [
    "accuracy()"
   ]
  },
  {
   "cell_type": "code",
   "execution_count": null,
   "metadata": {},
   "outputs": [],
   "source": []
  }
 ],
 "metadata": {
  "kernelspec": {
   "display_name": "Python 3 (ipykernel)",
   "language": "python",
   "name": "python3"
  },
  "language_info": {
   "codemirror_mode": {
    "name": "ipython",
    "version": 3
   },
   "file_extension": ".py",
   "mimetype": "text/x-python",
   "name": "python",
   "nbconvert_exporter": "python",
   "pygments_lexer": "ipython3",
   "version": "3.9.13"
  }
 },
 "nbformat": 4,
 "nbformat_minor": 4
}
